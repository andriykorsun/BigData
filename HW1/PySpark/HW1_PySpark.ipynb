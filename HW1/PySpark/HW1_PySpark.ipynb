{
  "nbformat": 4,
  "nbformat_minor": 0,
  "metadata": {
    "colab": {
      "provenance": []
    },
    "kernelspec": {
      "name": "python3",
      "display_name": "Python 3"
    },
    "language_info": {
      "name": "python"
    }
  },
  "cells": [
    {
      "cell_type": "markdown",
      "source": [
        "# HW1 - Notebook: Analytics in PySPARK\n",
        "\n",
        "Il notebook mostra una serie di Analytics sui progetti fatti negli anni passati e in corso dall'Università di Napoli, Federico II\n",
        "\n",
        "Questo notebook è scritto in **Python**"
      ],
      "metadata": {
        "id": "QclMAO3udaPQ"
      }
    },
    {
      "cell_type": "markdown",
      "source": [
        "### 1. Installazione di Spark"
      ],
      "metadata": {
        "id": "Mc6Fg2PQelZt"
      }
    },
    {
      "cell_type": "markdown",
      "source": [
        "Scarica e installa Apache Spark 3.2.4, insieme alle sue dipendenze (Java Development Kit 8+)."
      ],
      "metadata": {
        "id": "QYkSY1J8ejT3"
      }
    },
    {
      "cell_type": "code",
      "source": [
        "# Installa Java8\n",
        "!apt-get install openjdk-8-jdk-headless -qq > /dev/null\n",
        "\n",
        "# Scarica Spark 3.2.4\n",
        "!wget -q -N https://apache.osuosl.org/spark/spark-3.2.4/spark-3.2.4-bin-hadoop3.2.tgz \n",
        "\n",
        "# Decomprimo l'archivio di Spark\n",
        "!tar xf spark-3.2.4-bin-hadoop3.2.tgz\n",
        "\n",
        "# Installa findspark \n",
        "!pip install -q findspark"
      ],
      "metadata": {
        "id": "64kL_9I8epO8"
      },
      "execution_count": null,
      "outputs": []
    },
    {
      "cell_type": "markdown",
      "source": [
        "Si impostano le variabili d'ambiente per rendere visibile il runtime Spark al sistema operativo Linux. Si noti che è possibile gestire più versioni di Spark puntando alla versione corretta attraverso le variabili d'ambiente. Si esegue la seguente serie di comandi per puntare alla versione di Apache Spark 3.2.4 scaricata in precedenza."
      ],
      "metadata": {
        "id": "JkOMIaFyeu3J"
      }
    },
    {
      "cell_type": "code",
      "source": [
        "import os\n",
        "os.environ[\"JAVA_HOME\"] = \"/usr/lib/jvm/java-8-openjdk-amd64\"\n",
        "os.environ[\"SPARK_HOME\"] = \"/content/spark-3.2.4-bin-hadoop3.2\""
      ],
      "metadata": {
        "id": "mbovGeL9ew6H"
      },
      "execution_count": null,
      "outputs": []
    },
    {
      "cell_type": "markdown",
      "source": [
        "Si verifica che l'installazione sia andata a buon fine. Si **importa** la libreria `findspark` che consente di trovare e inizializzare automaticamente la configurazione di Spark senza dover configurare manualmente variabili di ambiente e altre impostazioni."
      ],
      "metadata": {
        "id": "EWnTf-yje0AS"
      }
    },
    {
      "cell_type": "code",
      "source": [
        "import findspark\n",
        "findspark.init()"
      ],
      "metadata": {
        "id": "OTbV6Hcpe2c1"
      },
      "execution_count": null,
      "outputs": []
    },
    {
      "cell_type": "code",
      "source": [
        "# Si verifica la versione di Spark in esecuzione sul cluster virtuale\n",
        "from pyspark.context import SparkContext\n",
        "sc = SparkContext.getOrCreate()\n",
        "\n",
        "assert  \"3.\" in sc.version, \"Verify that the cluster Spark's version is 3.x\""
      ],
      "metadata": {
        "id": "uoOtsANie36C"
      },
      "execution_count": null,
      "outputs": []
    },
    {
      "cell_type": "markdown",
      "source": [
        "Se l'ambiente non è configurato correttamente, l'istruzione mostrerà la versione di Spark che non sarà la 3.0 o successiva."
      ],
      "metadata": {
        "id": "uQ2nWTEGe8Ue"
      }
    },
    {
      "cell_type": "code",
      "source": [
        "print(\"Spark version:\", sc.version)"
      ],
      "metadata": {
        "colab": {
          "base_uri": "https://localhost:8080/"
        },
        "id": "6hVPc0RSe-Xu",
        "outputId": "bb795f57-4aab-4676-cda9-486b41104776"
      },
      "execution_count": null,
      "outputs": [
        {
          "output_type": "stream",
          "name": "stdout",
          "text": [
            "Spark version: 3.2.4\n"
          ]
        }
      ]
    },
    {
      "cell_type": "code",
      "source": [
        "sc"
      ],
      "metadata": {
        "colab": {
          "base_uri": "https://localhost:8080/",
          "height": 196
        },
        "id": "TsW4pOBbfDV-",
        "outputId": "f1d74573-3d27-403d-dcfa-b95606ed49d6"
      },
      "execution_count": null,
      "outputs": [
        {
          "output_type": "execute_result",
          "data": {
            "text/plain": [
              "<SparkContext master=local[*] appName=pyspark-shell>"
            ],
            "text/html": [
              "\n",
              "        <div>\n",
              "            <p><b>SparkContext</b></p>\n",
              "\n",
              "            <p><a href=\"http://346dbb2821ce:4040\">Spark UI</a></p>\n",
              "\n",
              "            <dl>\n",
              "              <dt>Version</dt>\n",
              "                <dd><code>v3.2.4</code></dd>\n",
              "              <dt>Master</dt>\n",
              "                <dd><code>local[*]</code></dd>\n",
              "              <dt>AppName</dt>\n",
              "                <dd><code>pyspark-shell</code></dd>\n",
              "            </dl>\n",
              "        </div>\n",
              "        "
            ]
          },
          "metadata": {},
          "execution_count": 6
        }
      ]
    },
    {
      "cell_type": "markdown",
      "source": [
        "### 2. Caricamento del Dataset su Spark\n",
        "L'RDD (Resilient Distributed Dataset) è la rappresentazione dei dati alla base di Spark. Tuttavia, scrivere codice funzionale non è sempre facile e si è deciso di aggiungere un modello di dati più *responsive*, basato sui concetti principali di **tabelle di dati** e **istruzioni SQL**, il cosiddetto **Spark SQL**.\n",
        "\n",
        "Spark SQL, a partire da Spark v1.3, offre all'utente approfondimenti su dati come **dataset** (fino a Spark v2.0 chiamati DataFrame). Un dataset è un oggetto organizzato come una tabella: ogni colonna ha un nome e un tipo, e ogni riga è una combinazione dei valori disponibili delle colonne.\n",
        "\n",
        "Come gli RDD, anche i dataset sono oggetti immutabili: lo sviluppatore può trasformare il dataset in un altro utilizzando operazioni *simili a SQL*.\n",
        "\n",
        "Il motore SQL di Spark analizza le operazioni **'SQL-like'** applicate al dataset e traduce le operazioni su RDD, esegue le operazioni sull'RDD e restituisce l'RDD in formato dataset."
      ],
      "metadata": {
        "id": "MAC_id5AfJTY"
      }
    },
    {
      "cell_type": "markdown",
      "source": [
        "L'interazione con gli oggetti SQL di Spark viene eseguita dalla `SparkSession` (prima di Spark v2.0 veniva utilizzato `SQLContext`)."
      ],
      "metadata": {
        "id": "wQWXfaaefOMc"
      }
    },
    {
      "cell_type": "code",
      "source": [
        "# Librerie necessarie per l'esecuzione corretta delle Analytics\n",
        "from pyspark.sql import SparkSession\n",
        "from pyspark.sql import functions as F\n",
        "from pyspark.sql.functions import split, explode, trim, count, sum, col, current_date, lower, regexp_replace\n",
        "import time\n",
        "\n",
        "spark = SparkSession(sc)\n",
        "print(spark)"
      ],
      "metadata": {
        "colab": {
          "base_uri": "https://localhost:8080/"
        },
        "id": "lIdO8GWqfYoT",
        "outputId": "bb678b9c-7a58-4539-ddfa-2b24f926456e"
      },
      "execution_count": null,
      "outputs": [
        {
          "output_type": "stream",
          "name": "stdout",
          "text": [
            "<pyspark.sql.session.SparkSession object at 0x7f23042e2320>\n"
          ]
        }
      ]
    },
    {
      "cell_type": "markdown",
      "source": [
        "Spark SQL lavora nativamente con i file CSV ed è in grado di identificare automaticamente il nome e il tipo di dati di ogni colonna. Essendo che il dataset fornito è in formato .xlsx, occorre innanzitutto convertirlo in formato .csv."
      ],
      "metadata": {
        "id": "V_6RKGtwfi8Q"
      }
    },
    {
      "cell_type": "code",
      "source": [
        "# Converte il file da .xlsx a .csv\n",
        "import pandas as pd\n",
        "from traitlets.traitlets import Int\n",
        "\n",
        "# Scarica il dataset dal repo GitHub\n",
        "!wget -q -N https://github.com/giuseppericcio/BigData/raw/main/Datasets/Dataset_Projects_Unina.xlsx\n",
        "!wget -q -N https://github.com/giuseppericcio/BigData/raw/main/Datasets/stopwords.txt\n",
        "!mkdir risultati\n",
        "\n",
        "# Lettura del file .xlsx\n",
        "read_file = pd.read_excel('/content/Dataset_Projects_Unina.xlsx', dtype = {'Funding_Amount_in_EUR' : Int, \n",
        "                                                                           'Start_Year' : Int, \n",
        "                                                                           'End_Year' : Int})\n",
        "# Conversione in .csv\n",
        "read_file.to_csv('/content/Dataset_Projects_Unina.csv', index = None, header=True)"
      ],
      "metadata": {
        "id": "Ccr5ff8egPID"
      },
      "execution_count": null,
      "outputs": []
    },
    {
      "cell_type": "code",
      "source": [
        "# Legge il file .csv dal filesystem\n",
        "\n",
        "# Identifica il tipo per ogni colonna (float, integer, string)\n",
        "# Prende i nomi delle colonne dalla prima riga del CSV\n",
        "projectsDS = spark.read \\\n",
        "  .option(\"inferSchema\", \"true\") \\\n",
        "  .option(\"header\", \"true\") \\\n",
        "  .option(\"multiLine\", \"true\") \\\n",
        "  .csv('/content/Dataset_Projects_Unina.csv')\n",
        "\n",
        "# Stampa a video lo Schema del dataset, che mostra i nomi e i tipi di colonne\n",
        "projectsDS.printSchema()"
      ],
      "metadata": {
        "colab": {
          "base_uri": "https://localhost:8080/"
        },
        "id": "l5_I2qWZfk0z",
        "outputId": "13d495c0-0298-4ee9-d5ed-75bfe8680b99"
      },
      "execution_count": null,
      "outputs": [
        {
          "output_type": "stream",
          "name": "stdout",
          "text": [
            "root\n",
            " |-- Title_translated: string (nullable = true)\n",
            " |-- Abstract_translated: string (nullable = true)\n",
            " |-- Keywords: string (nullable = true)\n",
            " |-- Funding_Amount_in_EUR: integer (nullable = true)\n",
            " |-- Start_Date: string (nullable = true)\n",
            " |-- Start_Year: integer (nullable = true)\n",
            " |-- End_Date: string (nullable = true)\n",
            " |-- End_Year: integer (nullable = true)\n",
            " |-- Researchers: string (nullable = true)\n",
            " |-- Research_Organization_original: string (nullable = true)\n",
            " |-- Research_Organization_standardized: string (nullable = true)\n",
            " |-- City_of_Research_organization: string (nullable = true)\n",
            " |-- Country_of_Research_organization: string (nullable = true)\n",
            " |-- Funder: string (nullable = true)\n",
            " |-- Funder_Group: string (nullable = true)\n",
            " |-- Funder_Country: string (nullable = true)\n",
            " |-- Program: string (nullable = true)\n",
            " |-- Fields_of_Research_ANZSRC_2020: string (nullable = true)\n",
            " |-- RCDC_Categories: string (nullable = true)\n",
            " |-- HRCS_HC_Categories: string (nullable = true)\n",
            " |-- HRCS_RAC_Categories: string (nullable = true)\n",
            " |-- Cancer_Types: string (nullable = true)\n",
            " |-- CSO_Categories: string (nullable = true)\n",
            " |-- Units_of_Assessment: string (nullable = true)\n",
            " |-- Sustainable_Development_Goals: string (nullable = true)\n",
            "\n"
          ]
        }
      ]
    },
    {
      "cell_type": "code",
      "source": [
        "# Il comando 'show(10)' mostra le prime 10 righe del dataset. Per impostazione predefinita, senza parametri, mostra le prime 20 righe\n",
        "projectsDS.show(10)"
      ],
      "metadata": {
        "colab": {
          "base_uri": "https://localhost:8080/"
        },
        "id": "jwT9OwQVfnGH",
        "outputId": "0590e85d-cad0-4748-e5d1-2c017baa799f"
      },
      "execution_count": null,
      "outputs": [
        {
          "output_type": "stream",
          "name": "stdout",
          "text": [
            "+--------------------+--------------------+--------+---------------------+----------+----------+----------+--------+-----------+------------------------------+----------------------------------+-----------------------------+--------------------------------+-------------------+--------------------+--------------+--------------------+------------------------------+--------------------+--------------------+--------------------+--------------------+--------------------+--------------------+-----------------------------+\n",
            "|    Title_translated| Abstract_translated|Keywords|Funding_Amount_in_EUR|Start_Date|Start_Year|  End_Date|End_Year|Researchers|Research_Organization_original|Research_Organization_standardized|City_of_Research_organization|Country_of_Research_organization|             Funder|        Funder_Group|Funder_Country|             Program|Fields_of_Research_ANZSRC_2020|     RCDC_Categories|  HRCS_HC_Categories| HRCS_RAC_Categories|        Cancer_Types|      CSO_Categories| Units_of_Assessment|Sustainable_Development_Goals|\n",
            "+--------------------+--------------------+--------+---------------------+----------+----------+----------+--------+-----------+------------------------------+----------------------------------+-----------------------------+--------------------------------+-------------------+--------------------+--------------+--------------------+------------------------------+--------------------+--------------------+--------------------+--------------------+--------------------+--------------------+-----------------------------+\n",
            "|Advancing underst...|ACTNOW advances t...|    null|             10632000|2023-03-01|      2023|2027-02-28|    2027|       null|          Norwegian Institu...|              Dutch Research Co...|         The Hague; Bergen...|            Netherlands; Norw...|European Commission|cOAlition S; EC &...|       Belgium|HORIZON.2.6.4 - S...|          41 Environmental ...|                null|                null|                null|                null|                null|C14 Geography and...|            13 Climate Action|\n",
            "|Harnessing the mi...|European consumer...|    null|             10815148|2023-03-01|      2023|2028-02-29|    2028|       null|          Austrian Institut...|              National Research...|         Paris; Vienna; Am...|            France; Austria; ...|European Commission|cOAlition S; EC &...|       Belgium|HORIZON.2.6.5 - F...|          32 Biomedical and...|Genetics; Human G...|Cardiovascular; M...|                null|                null|                null|A06 Agriculture, ...|         12 Responsible Co...|\n",
            "|TRAnsparent Inter...|TRAIL strategical...|    null|              2062404|2023-03-01|      2023|2027-02-28|    2027|       null|          PAL ROBOTICS SL; ...|              Universität Hambu...|         Hamburg; Manchest...|            Germany; United K...|European Commission|cOAlition S; EC &...|       Belgium|HORIZON.1.2 - Mar...|          46 Information an...|                null|                null|                null|                null|                null|B11 Computer Scie...|                         null|\n",
            "|Safe underground ...|Hydrogen is attra...|    null|              2136946|2023-02-01|      2023|2027-01-31|    2027|       null|          University of Nap...|              University of Nap...|         Naples; Rome; Mad...|            Italy; Italy; Spa...|European Commission|cOAlition S; EC &...|       Belgium|HORIZON.1.2 - Mar...|          37 Earth Sciences...|                null|                null|                null|                null|                null|     B12 Engineering|         7 Affordable and ...|\n",
            "|Hybrid-Electric R...|HERA will identif...|    null|             34979440|2023-01-01|      2023|2026-12-31|    2026|       null|          Airbus (France); ...|              Airbus (France); ...|         Toulouse; Getafe;...|            France; Spain; Is...|European Commission|cOAlition S; EC &...|       Belgium|HORIZON.2.5.7 - C...|          40 Engineering; 4...|                null|                null|                null|                null|                null|     B12 Engineering|         7 Affordable and ...|\n",
            "|Low-Cost, Circula...|Many communities ...|    null|              6193128|2023-01-01|      2023|2026-12-31|    2026|       null|          RESEAUX HYDROGENE...|              Atomic Energy and...|         Paris; Brilon; Na...|            France; Germany; ...|European Commission|cOAlition S; EC &...|       Belgium|HORIZON.2.5.2 - E...|          40 Engineering; 4...|                null|                null|                null|                null|                null|     B12 Engineering|         13 Climate Action...|\n",
            "|innovative Energy...|i-STENTORE will e...|    null|              8098455|2023-01-01|      2023|2025-12-31|    2025|       null|          CUERVA ENERGIA SL...|              Fraunhofer Societ...|         Munich; Porto; Na...|            Germany; Portugal...|European Commission|cOAlition S; EC &...|       Belgium|HORIZON.2.5 - Cli...|          40 Engineering; 4...|                null|                null|                null|                null|                null|     B12 Engineering|         13 Climate Action...|\n",
            "|Switching europea...|The overarching g...|    null|             10427094|2023-01-01|      2023|2026-12-31|    2026|       null|          AGENZIA REGIONALE...|              University of Nap...|         Naples; Gothenbur...|            Italy; Sweden; Sw...|European Commission|cOAlition S; EC &...|       Belgium|HORIZON.2.6.5 - F...|          44 Human Society;...|           Nutrition|                null|                null|                null|                null|B11 Computer Scie...|         12 Responsible Co...|\n",
            "|AdvanSiC - Advanc...|For a larger depl...|    null|              3242373|2023-01-01|      2023|2025-12-31|    2025|       null|          MERSEN FRANCE LA ...|              Ikerlan; I.CO.P (...|         Mondragón; Basili...|            Spain; Italy; Ita...|European Commission|cOAlition S; EC &...|       Belgium|HORIZON.2.5 - Cli...|          40 Engineering; 4...|                null|                null|                null|                null|                null|     B12 Engineering|         7 Affordable and ...|\n",
            "|Inflammation in h...|The development o...|    null|              6858523|2023-01-01|      2023|2028-12-31|    2028|       null|          Linköping Univers...|              University of Tur...|         Turku; Linköping;...|            Finland; Sweden; ...|European Commission|cOAlition S; EC &...|       Belgium|HORIZON.2.1 - Hea...|          31 Biological Sci...|Clinical Research...|Generic health re...|1.1 Normal biolog...|Not Site-Specific...|2.1 Exogenous Fac...|A02 Public Health...|                         null|\n",
            "+--------------------+--------------------+--------+---------------------+----------+----------+----------+--------+-----------+------------------------------+----------------------------------+-----------------------------+--------------------------------+-------------------+--------------------+--------------+--------------------+------------------------------+--------------------+--------------------+--------------------+--------------------+--------------------+--------------------+-----------------------------+\n",
            "only showing top 10 rows\n",
            "\n"
          ]
        }
      ]
    },
    {
      "cell_type": "markdown",
      "source": [
        "# Analytics descrittive"
      ],
      "metadata": {
        "id": "8a8F-Vp0hdJZ"
      }
    },
    {
      "cell_type": "code",
      "source": [
        "# Calcolare la somma finanziata tra i 5 dipartimenti con più progetti.\n",
        "# Trovo i 5 Dipartimenti con più progetti.\n",
        "Top5Dip = projectsDS.select(explode(split(projectsDS[\"Units_of_Assessment\"], \"; \")).alias(\"Dipartimento\"), projectsDS[\"Funding_Amount_in_EUR\"]) \\\n",
        "          .filter(col(\"Dipartimento\").isNotNull()) \\\n",
        "          .groupBy(col(\"Dipartimento\")) \\\n",
        "          .count() \\\n",
        "          .orderBy(col(\"count\").desc()) \\\n",
        "          .limit(5)\n",
        "\n",
        "# Somma gli importi finanziati per tutti i progetti riguardanti i 5 Dipartimenti trovati.\n",
        "Top5DipSommaProgetti = projectsDS.select(explode(split(projectsDS[\"Units_of_Assessment\"], \"; \")).alias(\"Dipartimento\"), projectsDS[\"Funding_Amount_in_EUR\"]) \\\n",
        "                      .filter(col(\"Dipartimento\").isNotNull()) \\\n",
        "                      .join(Top5Dip, \"Dipartimento\") \\\n",
        "                      .groupBy(col(\"Dipartimento\")) \\\n",
        "                      .agg(F.sum(\"Funding_Amount_in_EUR\").alias(\"Somma Finanziata (EUR)\")) \\\n",
        "                      .orderBy(col(\"Somma Finanziata (EUR)\").desc())\n",
        "\n",
        "# Mostra i risultati\n",
        "Top5DipSommaProgetti.show(truncate = False)\n",
        "\n",
        "# Salva il risultato in un file CSV\n",
        "risultato = Top5DipSommaProgetti.toPandas()\n",
        "risultato.to_csv('/content/risultati/Top5DipSommaProgetti.csv')"
      ],
      "metadata": {
        "colab": {
          "base_uri": "https://localhost:8080/"
        },
        "id": "sDWSSRowuO14",
        "outputId": "d51db5be-b90e-4ba9-d1dc-5b015fd5ca0f",
        "cellView": "code"
      },
      "execution_count": null,
      "outputs": [
        {
          "output_type": "stream",
          "name": "stdout",
          "text": [
            "+--------------------------------------------------------------+----------------------+\n",
            "|Dipartimento                                                  |Somma Finanziata (EUR)|\n",
            "+--------------------------------------------------------------+----------------------+\n",
            "|B12 Engineering                                               |1101742946            |\n",
            "|B11 Computer Science and Informatics                          |488879107             |\n",
            "|A06 Agriculture, Veterinary and Food Science                  |190442745             |\n",
            "|A01 Clinical Medicine                                         |177342410             |\n",
            "|A03 Allied Health Professions, Dentistry, Nursing and Pharmacy|87311094              |\n",
            "+--------------------------------------------------------------+----------------------+\n",
            "\n"
          ]
        }
      ]
    },
    {
      "cell_type": "code",
      "source": [
        "# Le 10 tematiche più trattate negli ultimi 10 anni.\n",
        "Tem_Top10 = projectsDS.select(explode(split(projectsDS[\"Fields_of_Research_ANZSRC_2020\"], \"; \")).alias(\"Ambito di Ricerca\"), \"End_Year\") \\\n",
        "            .filter(col(\"End_Year\") >= 2012 ) \\\n",
        "            .filter(col(\"Ambito di Ricerca\").isNotNull()) \\\n",
        "            .groupBy(col(\"Ambito di Ricerca\")) \\\n",
        "            .count() \\\n",
        "            .select(\"Ambito di Ricerca\", col(\"count\").alias(\"Numero progetti\")) \\\n",
        "            .orderBy(col(\"Numero progetti\").desc()) \\\n",
        "            .limit(10)\n",
        "\n",
        "# Mostra i risultati\n",
        "Tem_Top10.show(truncate = False)\n",
        "\n",
        "# Salva il risultato in un file CSV\n",
        "risultato = Tem_Top10.toPandas()\n",
        "risultato.to_csv('/content/risultati/Tem_Top10.csv')"
      ],
      "metadata": {
        "id": "3QF-gRbcYD1f",
        "colab": {
          "base_uri": "https://localhost:8080/"
        },
        "outputId": "ffef5e09-cc9b-432c-a72c-9136224c2c18"
      },
      "execution_count": null,
      "outputs": [
        {
          "output_type": "stream",
          "name": "stdout",
          "text": [
            "+---------------------------------------------+---------------+\n",
            "|Ambito di Ricerca                            |Numero progetti|\n",
            "+---------------------------------------------+---------------+\n",
            "|32 Biomedical and Clinical Sciences          |187            |\n",
            "|40 Engineering                               |150            |\n",
            "|31 Biological Sciences                       |143            |\n",
            "|34 Chemical Sciences                         |78             |\n",
            "|46 Information and Computing Sciences        |68             |\n",
            "|3101 Biochemistry and Cell Biology           |52             |\n",
            "|3211 Oncology and Carcinogenesis             |46             |\n",
            "|30 Agricultural, Veterinary and Food Sciences|45             |\n",
            "|44 Human Society                             |40             |\n",
            "|37 Earth Sciences                            |38             |\n",
            "+---------------------------------------------+---------------+\n",
            "\n"
          ]
        }
      ]
    },
    {
      "cell_type": "code",
      "source": [
        "# Le 100 istituzioni con cui ha collaborato di più (o meno) la Federico II.\n",
        "Istituzioni = projectsDS.select(explode(split(\"Research_Organization_original\", \"; \")).alias(\"Istituzione\")) \\\n",
        "              .filter(col(\"Istituzione\") != 'University of Naples Federico II') \\\n",
        "              .groupBy(trim(\"Istituzione\").alias(\"Istituzione\")) \\\n",
        "              .count() \\\n",
        "              .select(\"Istituzione\", col(\"count\").alias(\"Numero_Collaborazioni\")) \\\n",
        "              .orderBy(col(\"Numero_Collaborazioni\").desc()) \\\n",
        "              .limit(100)\n",
        "\n",
        "# Mostra i risultati\n",
        "Istituzioni.show(truncate = False)\n",
        "\n",
        "# Salva il risultato in un file CSV\n",
        "risultato = Istituzioni.toPandas()\n",
        "risultato.to_csv('/content/risultati/Istituzioni.csv')"
      ],
      "metadata": {
        "colab": {
          "base_uri": "https://localhost:8080/"
        },
        "outputId": "f2aa3b16-2abc-438f-f08e-7e508707c445",
        "id": "Mq7A5YeUWRf4"
      },
      "execution_count": null,
      "outputs": [
        {
          "output_type": "stream",
          "name": "stdout",
          "text": [
            "+---------------------------------------+---------------------+\n",
            "|Istituzione                            |Numero_Collaborazioni|\n",
            "+---------------------------------------+---------------------+\n",
            "|Sapienza University of Rome            |476                  |\n",
            "|University of Milan                    |350                  |\n",
            "|University of Florence                 |346                  |\n",
            "|University of Padua                    |322                  |\n",
            "|University of Bologna                  |317                  |\n",
            "|University of Turin                    |290                  |\n",
            "|University of Pisa                     |290                  |\n",
            "|University of Campania Luigi Vanvitelli|280                  |\n",
            "|National Research Council              |255                  |\n",
            "|University of Catania                  |243                  |\n",
            "|University of Palermo                  |242                  |\n",
            "|University of Genoa                    |234                  |\n",
            "|University of Bari Aldo Moro           |228                  |\n",
            "|University of Salerno                  |228                  |\n",
            "|Politecnico di Milano                  |211                  |\n",
            "|Polytechnic University of Turin        |184                  |\n",
            "|University of Rome Tor Vergata         |184                  |\n",
            "|University of Perugia                  |180                  |\n",
            "|University of Pavia                    |167                  |\n",
            "|University of Messina                  |149                  |\n",
            "+---------------------------------------+---------------------+\n",
            "only showing top 20 rows\n",
            "\n"
          ]
        }
      ]
    },
    {
      "cell_type": "code",
      "source": [
        "# TOP 10 dipartimenti con progetti ancora in corso\n",
        "Dipartimenti = projectsDS.filter(col(\"End_Date\") > current_date()) \\\n",
        "              .select(explode(split(\"Units_of_Assessment\", \"; \")).alias(\"Dipartimento\")) \\\n",
        "              .groupBy(trim(\"Dipartimento\").alias(\"Dipartimento\")) \\\n",
        "              .count() \\\n",
        "              .select(\"Dipartimento\", col(\"count\").alias(\"Numero_Progetti_In_Corso\")) \\\n",
        "              .orderBy(col(\"Numero_Progetti_In_Corso\").desc()) \\\n",
        "              .limit(10)\n",
        "\n",
        "# Mostra i risultati\n",
        "Dipartimenti.show(truncate = False)\n",
        "\n",
        "# Salva il risultato in un file CSV\n",
        "risultato = Dipartimenti.toPandas()\n",
        "risultato.to_csv('/content/risultati/Dipartimenti.csv')"
      ],
      "metadata": {
        "colab": {
          "base_uri": "https://localhost:8080/"
        },
        "outputId": "7b7659c1-36f6-4028-870d-c706b127a574",
        "id": "_oPcP-ULWRf4"
      },
      "execution_count": null,
      "outputs": [
        {
          "output_type": "stream",
          "name": "stdout",
          "text": [
            "+--------------------------------------------------------------+------------------------+\n",
            "|Dipartimento                                                  |Numero_Progetti_In_Corso|\n",
            "+--------------------------------------------------------------+------------------------+\n",
            "|B12 Engineering                                               |28                      |\n",
            "|B11 Computer Science and Informatics                          |14                      |\n",
            "|A01 Clinical Medicine                                         |12                      |\n",
            "|A06 Agriculture, Veterinary and Food Science                  |11                      |\n",
            "|C14 Geography and Environmental Studies                       |10                      |\n",
            "|A03 Allied Health Professions, Dentistry, Nursing and Pharmacy|7                       |\n",
            "|C17 Business and Management Studies                           |6                       |\n",
            "|B07 Earth Systems and Environmental Sciences                  |3                       |\n",
            "|A05 Biological Sciences                                       |3                       |\n",
            "|C13 Architecture, Built Environment and Planning              |3                       |\n",
            "+--------------------------------------------------------------+------------------------+\n",
            "\n"
          ]
        }
      ]
    },
    {
      "cell_type": "code",
      "source": [
        "# Somma Finanziata dalla Federico II nelle ricerche negli ultimi 20 anni\n",
        "SommaFinanziata = projectsDS.filter(col(\"Start_Year\") > '2001') \\\n",
        "                  .groupBy(col(\"Start_Year\")) \\\n",
        "                  .agg(F.sum(\"Funding_Amount_in_EUR\").alias(\"Somma_Finanziata_EUR\")) \\\n",
        "                  .orderBy(col(\"Start_Year\").desc())\n",
        "\n",
        "# Mostra i risultati\n",
        "SommaFinanziata.show(truncate = False)\n",
        "\n",
        "# Salva il risultato in un file CSV\n",
        "risultato = SommaFinanziata.toPandas()\n",
        "risultato.to_csv('/content/risultati/SommaFinanziata.csv')"
      ],
      "metadata": {
        "colab": {
          "base_uri": "https://localhost:8080/"
        },
        "outputId": "a290b619-90e7-4d54-933a-b3795156091e",
        "id": "Uv9W0GO-WRf4"
      },
      "execution_count": null,
      "outputs": [
        {
          "output_type": "stream",
          "name": "stdout",
          "text": [
            "+----------+--------------------+\n",
            "|Start_Year|Somma_Finanziata_EUR|\n",
            "+----------+--------------------+\n",
            "|2023      |122006193           |\n",
            "|2022      |314043199           |\n",
            "|2021      |102775511           |\n",
            "|2020      |412702370           |\n",
            "|2019      |63059973            |\n",
            "|2018      |184665016           |\n",
            "|2017      |222371781           |\n",
            "|2016      |91142273            |\n",
            "|2015      |65034430            |\n",
            "|2014      |327815115           |\n",
            "|2013      |78567634            |\n",
            "|2012      |77543183            |\n",
            "|2011      |93344945            |\n",
            "|2010      |108964206           |\n",
            "|2009      |103549195           |\n",
            "|2008      |167363184           |\n",
            "|2007      |102475007           |\n",
            "|2006      |168668207           |\n",
            "|2005      |85702511            |\n",
            "|2004      |172466365           |\n",
            "+----------+--------------------+\n",
            "only showing top 20 rows\n",
            "\n"
          ]
        }
      ]
    },
    {
      "cell_type": "code",
      "source": [
        "# Somma e numero progetti della federico II nel 2020.\n",
        "ProgFondi2020 = projectsDS.filter(col(\"Start_Year\") == '2020') \\\n",
        "                .select(explode(split(\"Fields_of_Research_ANZSRC_2020\", \"; \")).alias(\"Campi_di_ricerca\"), \"Funding_Amount_in_EUR\") \\\n",
        "                .groupBy(col(\"Campi_di_ricerca\")) \\\n",
        "                .agg(count(\"Campi_di_ricerca\").alias(\"Numero_progetti\"), F.sum(\"Funding_Amount_in_EUR\").alias(\"Somma_Finanziata_Totale\")) \\\n",
        "                .orderBy(col(\"Numero_progetti\").desc())\n",
        "\n",
        "# Mostra i risultati\n",
        "ProgFondi2020.show(truncate = False)\n",
        "\n",
        "# Salva il risultato in un file CSV\n",
        "risultato = ProgFondi2020.toPandas()\n",
        "risultato.to_csv('/content/risultati/ProgFondi2020.csv')"
      ],
      "metadata": {
        "colab": {
          "base_uri": "https://localhost:8080/"
        },
        "id": "RSsOg2wzaeF_",
        "outputId": "5cdd2dc3-dc97-49d7-d119-23accfd32ecd"
      },
      "execution_count": null,
      "outputs": [
        {
          "output_type": "stream",
          "name": "stdout",
          "text": [
            "+---------------------------------------------+---------------+-----------------------+\n",
            "|Campi_di_ricerca                             |Numero_progetti|Somma_Finanziata_Totale|\n",
            "+---------------------------------------------+---------------+-----------------------+\n",
            "|32 Biomedical and Clinical Sciences          |32             |29903187               |\n",
            "|31 Biological Sciences                       |25             |15639113               |\n",
            "|3211 Oncology and Carcinogenesis             |17             |15737406               |\n",
            "|40 Engineering                               |16             |172178921              |\n",
            "|34 Chemical Sciences                         |10             |7570303                |\n",
            "|3101 Biochemistry and Cell Biology           |9              |2883287                |\n",
            "|46 Information and Computing Sciences        |7              |165248297              |\n",
            "|44 Human Society                             |6              |10151596               |\n",
            "|51 Physical Sciences                         |6              |4676452                |\n",
            "|33 Built Environment and Design              |6              |9864166                |\n",
            "|30 Agricultural, Veterinary and Food Sciences|4              |12516005               |\n",
            "|37 Earth Sciences                            |4              |6158550                |\n",
            "|49 Mathematical Sciences                     |4              |2905598                |\n",
            "|3204 Immunology                              |4              |null                   |\n",
            "|4001 Aerospace Engineering                   |4              |155164236              |\n",
            "|3404 Medicinal and Biomolecular Chemistry    |4              |4322450                |\n",
            "|3105 Genetics                                |4              |1521624                |\n",
            "|43 History, Heritage and Archaeology         |4              |2634126                |\n",
            "|4303 Historical Studies                      |4              |2634126                |\n",
            "|35 Commerce, Management, Tourism and Services|4              |6329145                |\n",
            "+---------------------------------------------+---------------+-----------------------+\n",
            "only showing top 20 rows\n",
            "\n"
          ]
        }
      ]
    },
    {
      "cell_type": "code",
      "source": [
        "# Somma Finanziata dalla Federico II nelle ricerche sul Cancro negli ultimi 20 anni.\n",
        "SommaFinanziataCancro = projectsDS.filter(col(\"Cancer_Types\").isNotNull()) \\\n",
        "                        .filter(col(\"Start_Year\") > '2001') \\\n",
        "                        .groupBy(col(\"Start_Year\")) \\\n",
        "                        .agg(F.sum(\"Funding_Amount_in_EUR\").alias(\"Somma_Finanziata_Cancro_EUR\")) \\\n",
        "                        .orderBy(col(\"Start_Year\").desc())\n",
        "\n",
        "# Mostra i risultati\n",
        "SommaFinanziataCancro.show(truncate = False)\n",
        "\n",
        "# Salva il risultato in un file CSV\n",
        "risultato = SommaFinanziataCancro.toPandas()\n",
        "risultato.to_csv('/content/risultati/SommaFinanziataCancro.csv')"
      ],
      "metadata": {
        "colab": {
          "base_uri": "https://localhost:8080/"
        },
        "id": "8uWxC0t6Z7rF",
        "outputId": "74ae77f9-2ce9-466c-919d-134266120616"
      },
      "execution_count": null,
      "outputs": [
        {
          "output_type": "stream",
          "name": "stdout",
          "text": [
            "+----------+---------------------------+\n",
            "|Start_Year|Somma_Finanziata_Cancro_EUR|\n",
            "+----------+---------------------------+\n",
            "|2023      |8852273                    |\n",
            "|2022      |4099002                    |\n",
            "|2021      |4595975                    |\n",
            "|2020      |17067493                   |\n",
            "|2017      |17031248                   |\n",
            "|2016      |998050                     |\n",
            "|2015      |4707851                    |\n",
            "|2014      |759100                     |\n",
            "|2013      |13305339                   |\n",
            "|2012      |801647                     |\n",
            "|2010      |2515122                    |\n",
            "|2009      |10746439                   |\n",
            "|2008      |5424964                    |\n",
            "|2007      |22189172                   |\n",
            "|2006      |9319903                    |\n",
            "|2005      |7124936                    |\n",
            "|2004      |6607273                    |\n",
            "|2003      |10003159                   |\n",
            "|2002      |19902476                   |\n",
            "+----------+---------------------------+\n",
            "\n"
          ]
        }
      ]
    },
    {
      "cell_type": "code",
      "source": [
        "# Le parole chiavi più utilizzate nei titoli dei progetti.\n",
        "\n",
        "start_time = time.time()\n",
        "\n",
        "# Carica il file di stopwords come RDD\n",
        "stopwords_rdd = sc.textFile('/content/stopwords.txt')\n",
        "\n",
        "# Converti l'RDD in DataFrame\n",
        "stopwords_df = stopwords_rdd.map(lambda x: (x, )).toDF(['word'])\n",
        "\n",
        "# Seleziona solo la colonna 'word'\n",
        "stopwords = stopwords_df.select(col('word'))\n",
        "\n",
        "# Esegui la query\n",
        "parolechiavi = projectsDS.select(explode(split(regexp_replace(lower(col(\"Title_translated\")), '[\\\\p{Punct},\\\\p{Cntrl}]', ''), ' ')).alias(\"Topic_Titolo\")) \\\n",
        "              .join(stopwords, col(\"Topic_Titolo\") == col(\"word\"), \"left_anti\") \\\n",
        "              .filter(col(\"Topic_Titolo\") != '') \\\n",
        "              .groupBy(trim(\"Topic_Titolo\").alias(\"Topic_Titolo\")) \\\n",
        "              .count() \\\n",
        "              .select(\"Topic_Titolo\", col(\"count\").alias(\"Conteggio\")) \\\n",
        "              .orderBy(col(\"Conteggio\").desc(), col(\"Topic_Titolo\").asc()) \\\n",
        "              .limit(100)\n",
        "\n",
        "# Mostra i risultati\n",
        "parolechiavi.show(truncate = False)\n",
        "end_time = time.time()\n",
        "\n",
        "\n",
        "execution_time = end_time - start_time\n",
        "print(\"Execution time:\", execution_time, \"seconds\")\n",
        "\n",
        "# Salva il risultato in un file CSV\n",
        "risultato = parolechiavi.toPandas()\n",
        "risultato.to_csv('/content/risultati/parolechiavi.csv')"
      ],
      "metadata": {
        "id": "1Z3evPhIZsCv",
        "colab": {
          "base_uri": "https://localhost:8080/"
        },
        "outputId": "3dcfa965-2dfe-49fc-ebf1-301fbff72fa6"
      },
      "execution_count": null,
      "outputs": [
        {
          "output_type": "stream",
          "name": "stdout",
          "text": [
            "+----------------+---------+\n",
            "|Topic_Titolo    |Conteggio|\n",
            "+----------------+---------+\n",
            "|molecular       |185      |\n",
            "|systems         |172      |\n",
            "|development     |138      |\n",
            "|study           |129      |\n",
            "|mechanisms      |114      |\n",
            "|control         |104      |\n",
            "|innovative      |102      |\n",
            "|european        |99       |\n",
            "|role            |95       |\n",
            "|analysis        |87       |\n",
            "|disease         |76       |\n",
            "|design          |75       |\n",
            "|applications    |71       |\n",
            "|processes       |70       |\n",
            "|italian         |69       |\n",
            "|models          |69       |\n",
            "|integrated      |68       |\n",
            "|italy           |66       |\n",
            "|characterization|62       |\n",
            "|functional      |60       |\n",
            "+----------------+---------+\n",
            "only showing top 20 rows\n",
            "\n",
            "Execution time: 2.771289825439453 seconds\n"
          ]
        }
      ]
    },
    {
      "cell_type": "code",
      "source": [
        "# I 10 Paesi esteri con cui ha maggiormente collaborato l'Università.\n",
        "top10paesi = projectsDS.select(explode(split(\"Country_of_Research_organization\", \"; \")).alias(\"Paese\"), \"Title_translated\") \\\n",
        "            .distinct() \\\n",
        "            .filter(col(\"Paese\") != 'Italy') \\\n",
        "            .groupBy(trim(\"Paese\").alias(\"Paese\")) \\\n",
        "            .count() \\\n",
        "            .select(\"Paese\", col(\"count\").alias(\"Numero_Collaborazioni\")) \\\n",
        "            .orderBy(col(\"Numero_Collaborazioni\").desc()) \\\n",
        "            .limit(10)\n",
        "\n",
        "# Mostra i risultati\n",
        "top10paesi.show(truncate = False)\n",
        "\n",
        "# Salva il risultato in un file CSV\n",
        "risultato = top10paesi.toPandas()\n",
        "risultato.to_csv('/content/risultati/top10paesi.csv')"
      ],
      "metadata": {
        "id": "hpXDNtqsZeQf",
        "colab": {
          "base_uri": "https://localhost:8080/"
        },
        "outputId": "2f05b2ab-8d22-4187-c085-5f037e560dee"
      },
      "execution_count": null,
      "outputs": [
        {
          "output_type": "stream",
          "name": "stdout",
          "text": [
            "+--------------+---------------------+\n",
            "|Paese         |Numero_Collaborazioni|\n",
            "+--------------+---------------------+\n",
            "|United Kingdom|414                  |\n",
            "|Germany       |385                  |\n",
            "|France        |332                  |\n",
            "|Spain         |262                  |\n",
            "|Netherlands   |241                  |\n",
            "|Belgium       |193                  |\n",
            "|Sweden        |149                  |\n",
            "|Greece        |138                  |\n",
            "|United States |135                  |\n",
            "|Switzerland   |124                  |\n",
            "+--------------+---------------------+\n",
            "\n"
          ]
        }
      ]
    },
    {
      "cell_type": "code",
      "source": [
        "# Gli ambiti di ricerca con progetti di maggiore durata.\n",
        "start_time = time.time()\n",
        "ricercadurata = projectsDS.select(explode(split(\"Units_of_Assessment\", \";\")).alias(\"Dipartimento\"), \"End_Year\", \"Start_Year\", \"Title_translated\") \\\n",
        "                .groupBy(col(\"Title_translated\").alias(\"Titolo_Progetto\"), trim(\"Dipartimento\").alias(\"Dipartimento\")) \\\n",
        "                .agg((F.max(col(\"End_Year\")) - F.min(col(\"Start_Year\"))).alias(\"Durata_Progetto_in_Anni\")) \\\n",
        "                .orderBy(col(\"Durata_Progetto_in_Anni\").desc()) \\\n",
        "                .limit(10)\n",
        "\n",
        "# Mostra i risultati\n",
        "ricercadurata.show(truncate = False)\n",
        "end_time = time.time()\n",
        "\n",
        "elapsed_time = end_time - start_time\n",
        "print(\"Tempo di esecuzione:\", elapsed_time, \"secondi\")\n",
        "\n",
        "# Salva il risultato in un file CSV\n",
        "risultato = ricercadurata.toPandas()\n",
        "risultato.to_csv('/content/risultati/ricercadurata.csv')"
      ],
      "metadata": {
        "id": "72haor_nYfyB",
        "colab": {
          "base_uri": "https://localhost:8080/"
        },
        "outputId": "8ffbc452-aa1f-40a0-ae66-3e4919162631"
      },
      "execution_count": null,
      "outputs": [
        {
          "output_type": "stream",
          "name": "stdout",
          "text": [
            "+-----------------------------------------------------------------------------------------------------------------------+--------------------------------------------------------------+-----------------------+\n",
            "|Titolo_Progetto                                                                                                        |Dipartimento                                                  |Durata_Progetto_in_Anni|\n",
            "+-----------------------------------------------------------------------------------------------------------------------+--------------------------------------------------------------+-----------------------+\n",
            "|The role of p53/p73 family members in the cytotoxic response.                                                          |A01 Clinical Medicine                                         |16                     |\n",
            "|Mechanisms of Hepatitis C Virus Infection and Pathogenesis                                                             |A01 Clinical Medicine                                         |16                     |\n",
            "|Mitochondria and Cell Death Regulation following toxic injury                                                          |A03 Allied Health Professions, Dentistry, Nursing and Pharmacy|15                     |\n",
            "|Structural studies of proteins involved in neurodegenerative and muscular diseases                                     |A05 Biological Sciences                                       |14                     |\n",
            "|Genome Function                                                                                                        |A01 Clinical Medicine                                         |13                     |\n",
            "|The history of the Campi Flegrei Magma System through time: the key to understand present and future volcanic processes|B07 Earth Systems and Environmental Sciences                  |11                     |\n",
            "|Large randomised trials and meta-analyses of breast cancer treatments                                                  |A02 Public Health, Health Services and Primary Care           |10                     |\n",
            "|Molecular recognition in post-transcriptional regulation                                                               |A05 Biological Sciences                                       |10                     |\n",
            "|AIRFRAME ITD                                                                                                           |B12 Engineering                                               |9                      |\n",
            "|JTI-Clean Sky 1-Green Regional Aircraft-Integrated Technology Demonstrator                                             |B12 Engineering                                               |9                      |\n",
            "+-----------------------------------------------------------------------------------------------------------------------+--------------------------------------------------------------+-----------------------+\n",
            "\n",
            "Tempo di esecuzione: 1.0727522373199463 secondi\n"
          ]
        }
      ]
    },
    {
      "cell_type": "code",
      "source": [
        "\n",
        "# Capacità di gestione delle risorse finanziare dei progetti negli ultimi 20 anni. (GRAFICO CON PYTHON)\n",
        "start_time = time.time()\n",
        "capacitàfondi = projectsDS.groupBy(\"Start_Year\") \\\n",
        "                .agg(F.sum(\"Funding_Amount_in_EUR\").alias(\"Somma_Finanziata_EUR\"), F.count(\"*\").alias(\"Numero_Progetti\")) \\\n",
        "                .filter(col(\"Start_Year\").isNotNull()) \\\n",
        "                .groupBy(col(\"Start_Year\"), col(\"Somma_Finanziata_EUR\"), col(\"Numero_Progetti\")) \\\n",
        "                .agg((col(\"Numero_Progetti\") / (col(\"Somma_Finanziata_EUR\"))).alias(\"Capacita_Progetti\"), \n",
        "                    ((col(\"Somma_Finanziata_EUR\")) / col(\"Numero_Progetti\")).alias(\"Fondi_media_Progetti\")) \\\n",
        "                .select(col(\"Start_Year\").alias(\"Anno_Inizio\"), \"Capacita_Progetti\", \"Fondi_media_Progetti\") \\\n",
        "                .orderBy(col(\"Anno_Inizio\").desc()) \\\n",
        "                .limit(22)\n",
        "\n",
        "\n",
        "# Mostra i risultati\n",
        "\n",
        "capacitàfondi.show(truncate = False)\n",
        "end_time = time.time()\n",
        "execution_time = end_time - start_time\n",
        "print(\"Execution time:\", execution_time, \"seconds\")\n",
        "\n",
        "\n",
        "\n",
        "# Salva il risultato in un file CSV\n",
        "risultato = capacitàfondi.toPandas()\n",
        "risultato.to_csv('/content/risultati/capacitàfondi.csv')\n",
        "\n"
      ],
      "metadata": {
        "id": "bXTQVmHdXtsl",
        "colab": {
          "base_uri": "https://localhost:8080/"
        },
        "outputId": "8fb9eacd-be1a-466f-e740-3f328d16352a"
      },
      "execution_count": null,
      "outputs": [
        {
          "output_type": "stream",
          "name": "stdout",
          "text": [
            "+-----------+---------------------+--------------------+\n",
            "|Anno_Inizio|Capacita_Progetti    |Fondi_media_Progetti|\n",
            "+-----------+---------------------+--------------------+\n",
            "|2023       |1.4753349446777672E-7|6778121.833333333   |\n",
            "|2022       |1.1781818589868586E-7|8487654.027027028   |\n",
            "|2021       |3.502779956988003E-7 |2854875.3055555555  |\n",
            "|2020       |2.5926674470030303E-7|3857031.495327103   |\n",
            "|2019       |3.1715839776842276E-7|3152998.65          |\n",
            "|2018       |1.4079548234517793E-7|7102500.615384615   |\n",
            "|2017       |8.769098269712558E-7 |1140368.1076923078  |\n",
            "|2016       |3.4012757175805785E-7|2940073.3225806453  |\n",
            "|2015       |1.1993647057412511E-6|833774.7435897436   |\n",
            "|2014       |7.626249936644929E-8 |1.31126046E7        |\n",
            "|2013       |3.181971853702506E-7 |3142705.36          |\n",
            "|2012       |6.190099263786993E-7 |1615482.9791666667  |\n",
            "|2011       |3.321015401530313E-7 |3011127.2580645164  |\n",
            "|2010       |7.892500038040015E-7 |1267025.6511627906  |\n",
            "|2009       |1.0236680256181615E-6|976879.1981132076   |\n",
            "|2008       |1.0097800242614886E-6|990314.6982248521   |\n",
            "|2007       |1.600390229785493E-6 |624847.6036585366   |\n",
            "|2006       |8.359607451094799E-7 |1196228.4184397163  |\n",
            "|2005       |2.2869808330353354E-6|437257.7091836735   |\n",
            "|2004       |1.374180988855421E-6 |727706.1814345991   |\n",
            "+-----------+---------------------+--------------------+\n",
            "only showing top 20 rows\n",
            "\n",
            "Execution time: 0.9495224952697754 seconds\n"
          ]
        }
      ]
    },
    {
      "cell_type": "code",
      "source": [
        "#Numero di progetti di ricerca per ogni obiettivo di sviluppo sostenibile.\n",
        "ProgettiFinanziatiSostenibilità = projectsDS.select(explode(split(\"Sustainable_Development_Goals\", \"; \")).alias(\"Obiettivo_Sostenibilita\"), \"Funding_Amount_in_EUR\") \\\n",
        "                                  .filter(col(\"Obiettivo_Sostenibilita\").isNotNull()) \\\n",
        "                                  .groupBy(col(\"Obiettivo_Sostenibilita\")) \\\n",
        "                                  .agg(F.count(\"*\").alias(\"Numero_Progetti\"), F.sum(\"Funding_Amount_in_EUR\").alias(\"Somma_finanziata\")) \\\n",
        "                                  .select(trim(\"Obiettivo_Sostenibilita\").alias(\"Obiettivo_Sostenibilita\"), \"Numero_Progetti\", \"Somma_finanziata\") \\\n",
        "                                  .orderBy(col(\"Numero_Progetti\").desc())\n",
        "\n",
        "# Mostra i risultati\n",
        "ProgettiFinanziatiSostenibilità.show(truncate = False)\n",
        "\n",
        "# Salva il risultato in un file CSV\n",
        "risultato = ProgettiFinanziatiSostenibilità.toPandas()\n",
        "risultato.to_csv('/content/risultati/ProgettiFinanziatiSostenibilità.csv')"
      ],
      "metadata": {
        "id": "QYzGNuktXlgs",
        "colab": {
          "base_uri": "https://localhost:8080/"
        },
        "outputId": "e7e4651d-65d5-49b0-a0ce-c64330790273"
      },
      "execution_count": null,
      "outputs": [
        {
          "output_type": "stream",
          "name": "stdout",
          "text": [
            "+-----------------------------------------+---------------+----------------+\n",
            "|Obiettivo_Sostenibilita                  |Numero_Progetti|Somma_finanziata|\n",
            "+-----------------------------------------+---------------+----------------+\n",
            "|7 Affordable and Clean Energy            |82             |311321685       |\n",
            "|13 Climate Action                        |53             |139135505       |\n",
            "|11 Sustainable Cities and Communities    |40             |318092831       |\n",
            "|3 Good Health and Well Being             |34             |98917877        |\n",
            "|12 Responsible Consumption and Production|25             |199551657       |\n",
            "|16 Peace, Justice and Strong Institutions|23             |7537352         |\n",
            "|2 Zero Hunger                            |21             |90328741        |\n",
            "|4 Quality Education                      |15             |15812081        |\n",
            "|9 Industry, Innovation and Infrastructure|13             |298867713       |\n",
            "|10 Reduced Inequalities                  |9              |4224395         |\n",
            "|8 Decent Work and Economic Growth        |9              |10467178        |\n",
            "|15 Life on Land                          |7              |7203903         |\n",
            "|6 Clean Water and Sanitation             |4              |5628593         |\n",
            "|14 Life Below Water                      |4              |6744462         |\n",
            "|1 No Poverty                             |3              |2291171         |\n",
            "|5 Gender Equality                        |1              |2200332         |\n",
            "+-----------------------------------------+---------------+----------------+\n",
            "\n"
          ]
        }
      ]
    },
    {
      "cell_type": "code",
      "source": [
        "#Numero di progetti di ricerca per ogni tipo di cancro.\n",
        "ProgettiCancro = projectsDS.select(explode(split(\"Cancer_types\", \"; \")).alias(\"Tipo_Cancro\")) \\\n",
        "                .filter(col(\"Tipo_Cancro\").isNotNull()) \\\n",
        "                .filter(col(\"Tipo_Cancro\") != 'Not Site-Specific Cancer') \\\n",
        "                .groupBy(col(\"Tipo_Cancro\")) \\\n",
        "                .count() \\\n",
        "                .select(trim(\"Tipo_Cancro\").alias(\"Tipo_Cancro\"), col(\"count\").alias(\"Numero_Progetti\")) \\\n",
        "                .orderBy(col(\"Numero_Progetti\").desc()) \\\n",
        "                .limit(25)\n",
        "\n",
        "# Mostra i risultati\n",
        "ProgettiCancro.show(truncate = False)\n",
        "\n",
        "# Salva il risultato in un file CSV\n",
        "risultato = ProgettiCancro.toPandas()\n",
        "risultato.to_csv('/content/risultati/ProgettiCancro.csv')"
      ],
      "metadata": {
        "id": "6Foa-tHeRPxA",
        "colab": {
          "base_uri": "https://localhost:8080/"
        },
        "outputId": "bede7b52-e45a-4e70-b5ac-1d698b095a46"
      },
      "execution_count": null,
      "outputs": [
        {
          "output_type": "stream",
          "name": "stdout",
          "text": [
            "+-------------------------------+---------------+\n",
            "|Tipo_Cancro                    |Numero_Progetti|\n",
            "+-------------------------------+---------------+\n",
            "|Thyroid Cancer                 |23             |\n",
            "|Breast Cancer                  |22             |\n",
            "|Liver Cancer                   |19             |\n",
            "|Colon and Rectal Cancer        |14             |\n",
            "|Brain Tumor                    |8              |\n",
            "|Stomach Cancer                 |8              |\n",
            "|Oral Cavity and Lip Cancer     |7              |\n",
            "|Lung Cancer                    |7              |\n",
            "|Leukemia / Leukaemia           |7              |\n",
            "|Esophageal / Oesophageal Cancer|6              |\n",
            "|Pancreatic Cancer              |5              |\n",
            "|Skin Cancer                    |5              |\n",
            "|Head and Neck Cancer           |4              |\n",
            "|Pituitary Tumor                |4              |\n",
            "|Bladder Cancer                 |4              |\n",
            "|Melanoma                       |3              |\n",
            "|Nervous System                 |3              |\n",
            "|Kidney Cancer                  |3              |\n",
            "|Gastrointestinal Tract         |3              |\n",
            "|Prostate Cancer                |3              |\n",
            "+-------------------------------+---------------+\n",
            "only showing top 20 rows\n",
            "\n"
          ]
        }
      ]
    },
    {
      "cell_type": "code",
      "source": [
        "#Tipi di malattie, possibili cure e gli obiettivi perseguiti.\n",
        "Settori_Medici = projectsDS.select(explode(split(col(\"RCDC_Categories\"), \"; \")).alias(\"Cat_Medica\"), col(\"Funding_Amount_in_EUR\")) \\\n",
        "                .filter(col(\"Cat_Medica\").isNotNull()) \\\n",
        "                .groupBy(trim(col(\"Cat_Medica\")).alias(\"Settore_Medico\")) \\\n",
        "                .agg(F.count(\"*\").alias(\"Numero_Progetti\"), F.sum(\"Funding_Amount_in_EUR\").alias(\"Somma_Finanziata_EUR\")) \\\n",
        "                .orderBy(col(\"Somma_Finanziata_EUR\").desc(), col(\"Numero_Progetti\").desc()) \\\n",
        "                .limit(10)\n",
        "\n",
        "# Mostra i risultati\n",
        "Settori_Medici.show(truncate = False)\n",
        "\n",
        "# Salva il risultato in un file CSV\n",
        "risultato = Settori_Medici.toPandas()\n",
        "risultato.to_csv('/content/risultati/Settori_Medici.csv')"
      ],
      "metadata": {
        "id": "M6R5cJp1ruVz",
        "colab": {
          "base_uri": "https://localhost:8080/"
        },
        "outputId": "1eafacf0-0b68-417c-ac0d-3548f27e1689"
      },
      "execution_count": null,
      "outputs": [
        {
          "output_type": "stream",
          "name": "stdout",
          "text": [
            "+------------------+---------------+--------------------+\n",
            "|Settore_Medico    |Numero_Progetti|Somma_Finanziata_EUR|\n",
            "+------------------+---------------+--------------------+\n",
            "|Neurosciences     |60             |316032667           |\n",
            "|Genetics          |146            |255874341           |\n",
            "|Bioengineering    |44             |217362848           |\n",
            "|Biotechnology     |99             |188532055           |\n",
            "|Prevention        |55             |172584138           |\n",
            "|Clinical Research |76             |158073322           |\n",
            "|Nutrition         |34             |102271921           |\n",
            "|Human Genome      |35             |98437210            |\n",
            "|Rare Diseases     |72             |88654024            |\n",
            "|Digestive Diseases|41             |76116470            |\n",
            "+------------------+---------------+--------------------+\n",
            "\n"
          ]
        }
      ]
    },
    {
      "cell_type": "code",
      "source": [
        "!tar -cvf risultati.tar /content/risultati"
      ],
      "metadata": {
        "id": "UbRXR36RCe9h",
        "colab": {
          "base_uri": "https://localhost:8080/"
        },
        "outputId": "18211173-e196-4f5c-8776-182846cd1309"
      },
      "execution_count": null,
      "outputs": [
        {
          "output_type": "stream",
          "name": "stdout",
          "text": [
            "tar: Removing leading `/' from member names\n",
            "/content/risultati/\n",
            "/content/risultati/Istituzioni.csv\n",
            "/content/risultati/parolechiavi.csv\n",
            "/content/risultati/capacitàfondi.csv\n",
            "/content/risultati/ProgettiCancro.csv\n",
            "/content/risultati/SommaFinanziataCancro.csv\n",
            "/content/risultati/ProgettiFinanziatiSostenibilità.csv\n",
            "/content/risultati/Top5DipSommaProgetti.csv\n",
            "/content/risultati/SommaFinanziata.csv\n",
            "/content/risultati/ricercadurata.csv\n",
            "/content/risultati/ProgFondi2020.csv\n",
            "/content/risultati/Tem_Top10.csv\n",
            "/content/risultati/top10paesi.csv\n",
            "/content/risultati/Dipartimenti.csv\n",
            "/content/risultati/Settori_Medici.csv\n"
          ]
        }
      ]
    },
    {
      "cell_type": "code",
      "source": [],
      "metadata": {
        "id": "tec_VTmMdNsk"
      },
      "execution_count": null,
      "outputs": []
    }
  ]
}